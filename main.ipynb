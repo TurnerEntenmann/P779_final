{
 "cells": [
  {
   "cell_type": "code",
   "execution_count": 1,
   "id": "4d11c21a",
   "metadata": {},
   "outputs": [],
   "source": [
    "import numpy as np\n",
    "import matplotlib.lines as mlines\n",
    "import matplotlib.patches as patches\n",
    "from matplotlib import pyplot as plt"
   ]
  },
  {
   "cell_type": "code",
   "execution_count": 9,
   "id": "14260469",
   "metadata": {},
   "outputs": [],
   "source": [
    "# fxn for plotting\n",
    "def get_ax(figsize=(4,4), fontsize=15, is_all_off=True):\n",
    "    fig, ax = plt.subplots(figsize=figsize)\n",
    "    ax.spines['right'].set_visible(False)\n",
    "    ax.spines['top'].set_visible(False)\n",
    "    # if we just want a blank canvas\n",
    "    if is_all_off:\n",
    "        ax.spines['left'].set_visible(False)\n",
    "        ax.spines['bottom'].set_visible(False)\n",
    "        ax.set_xticks([])\n",
    "        ax.set_yticks([])\n",
    "    return ax, fontsize"
   ]
  },
  {
   "cell_type": "code",
   "execution_count": 89,
   "id": "33ff1bbb",
   "metadata": {},
   "outputs": [],
   "source": [
    "def make_tensor(t_corner=(0.375, 0.375), t_width=0.25, t_height=0.25, t_alpha=0.5):\n",
    "    return patches.Rectangle(t_corner, t_width, t_height, alpha=t_alpha)\n",
    "    \n",
    "def make_idx(t_corner, t_width, t_height, long=0.2, short=0.01, offset=0, side=\"top\", i_color=\"0\"):\n",
    "    if side == \"top\":\n",
    "        top = t_corner[1] + t_height\n",
    "        t_center = t_corner[0] + (t_width/2)\n",
    "        i_corner = (t_center + offset, top)\n",
    "        i_width = short\n",
    "        i_height = long\n",
    "    \n",
    "    return patches.Rectangle(i_corner, i_width, i_height, ec=None, fc=i_color)\n",
    "    #idx1 = patches.Rectangle((0.55, 0.625), 0.01, 0.2, color=\"0\")"
   ]
  },
  {
   "cell_type": "markdown",
   "id": "44c8c017",
   "metadata": {},
   "source": [
    "# basic tensors"
   ]
  },
  {
   "cell_type": "code",
   "execution_count": 90,
   "id": "41adbf2f",
   "metadata": {},
   "outputs": [
    {
     "data": {
      "image/png": "iVBORw0KGgoAAAANSUhEUgAAAYYAAAGGCAYAAAB/gCblAAAAOXRFWHRTb2Z0d2FyZQBNYXRwbG90bGliIHZlcnNpb24zLjcuMSwgaHR0cHM6Ly9tYXRwbG90bGliLm9yZy/bCgiHAAAACXBIWXMAAA9hAAAPYQGoP6dpAAAFNElEQVR4nO3XQRHCUBQEQUKhJU4QhBIE4QQzLxcuo+CHSreCvU3tNjNzA4Cf++oBAJyLMAAQwgBACAMAIQwAhDAAEMIAQAgDACEMAIQwABDCAEAIAwAhDACEMAAQwgBACAMAIQwAhDAAEMIAQAgDACEMAIQwABDCAEAIAwAhDACEMAAQwgBACAMAIQwAhDAAEMIAQAgDACEMAIQwABDCAEAIAwAhDACEMAAQwgBACAMAIQwAhDAAEMIAQAgDACEMAIQwABDCAEAIAwAhDACEMAAQwgBACAMAIQwAhDAAEMIAQAgDACEMAIQwABDCAEAIAwAhDACEMAAQwgBACAMAIQwAhDAAEMIAQAgDACEMAIQwABDCAEAIAwAhDACEMAAQwgBACAMAIQwAhDAAEMIAQAgDACEMAIQwABDCAEAIAwAhDACEMAAQwgBACAMAIQwAhDAAEMIAQAgDACEMAIQwABDCAEAIAwAhDACEMAAQwgBACAMAIQwAhDAAEMIAQAgDACEMAIQwABDCAEAIAwAhDACEMAAQwgBACAMAIQwAhDAAEMIAQAgDACEMAIQwABDCAEAIAwAhDACEMAAQwgBACAMAIQwAhDAAEMIAQAgDACEMAIQwABDCAEAIAwAhDACEMAAQwgBACAMAIQwAhDAAEMIAQAgDACEMAIQwABDCAEAIAwAhDACEMAAQwgBACAMAIQwAhDAAEMIAQAgDACEMAIQwABDCAEAIAwAhDADEY/UA/sv781094VJez331BC7IYwAghAGAEAYAQhgACGEAIIQBgBAGAEIYAAhhACCEAYAQBgBCGAAIYQAghAGAEAYAQhgACGEAIIQBgBAGAEIYAAhhACCEAYAQBgBCGAAIYQAghAGAEAYAQhgACGEAIIQBgBAGAEIYAAhhACCEAYAQBgBCGAAIYQAghAGAEAYAQhgACGEAIIQBgBAGAEIYAAhhACCEAYAQBgBCGAAIYQAghAGAEAYAQhgACGEAIIQBgBAGAEIYAAhhACCEAYAQBgBCGAAIYQAghAGAEAYAQhgACGEAIIQBgBAGAEIYAAhhACCEAYAQBgBCGAAIYQAghAGAEAYAQhgACGEAIIQBgBAGAEIYAAhhACCEAYAQBgBCGAAIYQAghAGAEAYAQhgACGEAIIQBgBAGAEIYAIhtZmb1CADOw2MAIIQBgBAGAEIYAAhhACCEAYAQBgBCGAAIYQAghAGAEAYAQhgACGEAIIQBgBAGAEIYAAhhACCEAYAQBgBCGAAIYQAghAGAEAYAQhgACGEAIIQBgBAGAEIYAAhhACCEAYAQBgBCGAAIYQAghAGAEAYAQhgACGEAIIQBgBAGAEIYAAhhACCEAYAQBgBCGAAIYQAghAGAEAYAQhgACGEAIIQBgBAGAEIYAAhhACCEAYAQBgBCGAAIYQAghAGAEAYAQhgACGEAIIQBgBAGAEIYAAhhACCEAYAQBgBCGAAIYQAghAGAEAYAQhgACGEAIIQBgBAGAEIYAAhhACCEAYAQBgBCGAAIYQAghAGAEAYAQhgACGEAIIQBgBAGAEIYAAhhACCEAYAQBgBCGAAIYQAghAGAEAYAQhgACGEAIIQBgBAGAEIYAAhhACCEAYAQBgBCGAAIYQAghAGAEAYAQhgACGEAIIQBgBAGAEIYAAhhACCEAYAQBgBCGAAIYQAghAGAEAYAQhgACGEAIIQBgBAGAEIYAAhhACCEAYAQBgBCGAAIYQAghAGAEAYAQhgACGEAIIQBgBAGAEIYAAhhACCEAYA4APNLDgVHhHMmAAAAAElFTkSuQmCC",
      "text/plain": [
       "<Figure size 400x400 with 1 Axes>"
      ]
     },
     "metadata": {},
     "output_type": "display_data"
    }
   ],
   "source": [
    "ax, fsize = get_ax()\n",
    "rect = patches.Rectangle((0.35, 0.35), 0.25, 0.25, alpha=0.5)\n",
    "ax.add_patch(rect)\n",
    "plt.tight_layout()\n",
    "plt.savefig(\"tensor_plots/scalar.pdf\")"
   ]
  },
  {
   "cell_type": "code",
   "execution_count": 91,
   "id": "3d710cfb",
   "metadata": {},
   "outputs": [
    {
     "data": {
      "image/png": "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",
      "text/plain": [
       "<Figure size 400x400 with 1 Axes>"
      ]
     },
     "metadata": {},
     "output_type": "display_data"
    }
   ],
   "source": [
    "ax, fsize = get_ax()\n",
    "rect = patches.Rectangle((0.375, 0.375), 0.25, 0.25, alpha=0.5)\n",
    "ax.add_patch(rect)\n",
    "\n",
    "idx1 = patches.Rectangle((0.625, 0.5), 0.2, 0.01, color=\"0\")\n",
    "ax.add_patch(idx1)\n",
    "\n",
    "plt.tight_layout()\n",
    "plt.savefig(\"tensor_plots/vector.pdf\")"
   ]
  },
  {
   "cell_type": "code",
   "execution_count": 92,
   "id": "f5b4abb3",
   "metadata": {},
   "outputs": [
    {
     "data": {
      "image/png": "iVBORw0KGgoAAAANSUhEUgAAAYYAAAGGCAYAAAB/gCblAAAAOXRFWHRTb2Z0d2FyZQBNYXRwbG90bGliIHZlcnNpb24zLjcuMSwgaHR0cHM6Ly9tYXRwbG90bGliLm9yZy/bCgiHAAAACXBIWXMAAA9hAAAPYQGoP6dpAAAGEUlEQVR4nO3aMYoUWwCG0RoZpcBABgoDgwntlRiYvOStxNBVuAS3YCouRMawA4OhYVAQmveEMjH5sgrEOz19zgr+4BYft7gX67quEwD89mj0AADuF2EAIIQBgBAGAEIYAAhhACCEAYAQBgBCGAAIYQAghAGAEAYAQhgACGEAIIQBgBAGAEIYAAhhACCEAYAQBgBCGAAIYQAghAGAEAYAQhgACGEAIIQBgBAGAEIYAAhhACCEAYAQBgBCGAAIYQAghAGAEAYAQhgACGEAIIQBgBAGAEIYAAhhACCEAYAQBgBCGAAIYQAghAGAEAYAQhgACGEAIIQBgBAGAEIYAAhhACCEAYAQBgBCGAAIYQAghAGAEAYAQhgACGEAIIQBgBAGAEIYAAhhACCEAYAQBgBCGAAIYQAghAGAEAYAQhgACGEAIIQBgBAGAEIYAAhhACCEAYAQBgBCGAAIYQAghAGAEAYAQhgACGEAIIQBgBAGAEIYAAhhACCEAYAQBgBCGAAIYQAghAGAEAYAQhgACGEAIIQBgBAGAEIYAAhhACCEAYAQBgBCGAAIYQAghAGAEAYAQhgACGEAIIQBgBAGAEIYAAhhACCEAYAQBgBCGAAIYQAghAGAEAYAQhgACGEAIIQBgBAGAEIYAAhhACCEAYAQBgBCGAAIYQAghAGAEAYAQhgACGEAIIQBgBAGAEIYAAhhACCEAYAQBgBCGAAIYQAghAGAEAYAQhgACGEAIIQBgBAGAOJy9AAennefvoyecFbevHo5egIPjBsDACEMAIQwABDCAEAIAwAhDACEMAAQwgBACAMAIQwAhDAAEMIAQAgDACEMAIQwABDCAEAIAwAhDACEMAAQwgBACAMAIQwAhDAAEMIAQAgDACEMAIQwABDCAEAIAwAhDACEMAAQwgBACAMAIQwAhDAAEMIAQAgDACEMAIQwABDCAEBcjh5wSvb7/XQ4HEbPuPfubr9PV89fjJ5xNpzLbZZlma6vr0fPOAnCsNF+v592u910PB5HT7n3Lh8/md6+/ygOf8Hd7ddp989r53KDeZ6nm5sbcdjAr6SNDoeDj2+jn///N/34djd6xln48e3OudzoeDy6WW0kDACEMAAQwrDRsizTPM+jZ5yEy8dPpqfPrkbPOAtPn105lxvN8zwtyzJ6xkm4WNd1HT3iVHj9sc2Hz14l/U3/7mbncgOvkrYTBv64d5++jJ5wVt68ejl6Ag+MX0kAhDAAEMIAQAgDACEMAIQwABDCAEAIAwAhDACEMAAQwgBACAMAIQwAhDAAEMIAQAgDACEMAIQwABDCAEAIAwAhDACEMAAQwgBACAMAIQwAhDAAEMIAQAgDACEMAIQwABDCAEAIAwAhDACEMAAQwgBACAMAIQwAhDAAEMIAQAgDACEMAIQwABDCAEBcrOu6jh4BwP3hxgBACAMAIQwAhDAAEMIAQAgDACEMAIQwABDCAEAIAwAhDACEMAAQwgBACAMAIQwAhDAAEMIAQAgDACEMAIQwABDCAEAIAwAhDACEMAAQwgBACAMAIQwAhDAAEMIAQAgDACEMAIQwABDCAEAIAwAhDACEMAAQwgBACAMAIQwAhDAAEMIAQAgDACEMAIQwABDCAEAIAwAhDACEMAAQwgBACAMAIQwAhDAAEMIAQAgDACEMAIQwABDCAEAIAwAhDACEMAAQwgBACAMAIQwAhDAAEMIAQAgDACEMAIQwABDCAEAIAwAhDACEMAAQwgBACAMAIQwAhDAAEMIAQAgDACEMAIQwABDCAEAIAwAhDACEMAAQwgBACAMAIQwAhDAAEMIAQAgDACEMAIQwABDCAEAIAwAhDACEMAAQwgBACAMAIQwAhDAAEMIAQAgDACEMAIQwABDCAEAIAwAhDACEMAAQwgBACAMAIQwAhDAAEMIAQAgDACEMAIQwABDCAEAIAwAhDACEMAAQwgBACAMAIQwAhDAAEMIAQAgDACEMAIQwABDCAEAIAwAhDACEMAAQwgBACAMAIQwAhDAAEMIAQAgDACEMAIQwABDCAEAIAwAhDACEMAAQwgBACAMAIQwAhDAAEL8Aol1c+ynPOcwAAAAASUVORK5CYII=",
      "text/plain": [
       "<Figure size 400x400 with 1 Axes>"
      ]
     },
     "metadata": {},
     "output_type": "display_data"
    }
   ],
   "source": [
    "ax, fsize = get_ax()\n",
    "rect = patches.Rectangle((0.375, 0.375), 0.25, 0.25, alpha=0.5)\n",
    "ax.add_patch(rect)\n",
    "\n",
    "idx1 = patches.Rectangle((0.625, 0.5), 0.2, 0.01, color=\"0\")\n",
    "ax.add_patch(idx1)\n",
    "\n",
    "idx2 = patches.Rectangle((0.175, 0.5), 0.2, 0.01, color=\"0\")\n",
    "ax.add_patch(idx2)\n",
    "\n",
    "plt.tight_layout()\n",
    "plt.savefig(\"tensor_plots/matrix.pdf\")"
   ]
  },
  {
   "cell_type": "markdown",
   "id": "bc01c4f9",
   "metadata": {},
   "source": [
    "# operations"
   ]
  },
  {
   "cell_type": "code",
   "execution_count": 93,
   "id": "f1d9680e",
   "metadata": {},
   "outputs": [
    {
     "data": {
      "image/png": "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",
      "text/plain": [
       "<Figure size 400x400 with 1 Axes>"
      ]
     },
     "metadata": {},
     "output_type": "display_data"
    }
   ],
   "source": [
    "# reshaping\n",
    "\n",
    "ax, fsize = get_ax()\n",
    "ten = patches.Rectangle((0.375, 0.375), 0.25, 0.25, alpha=0.5)\n",
    "ax.add_patch(ten)\n",
    "\n",
    "idx1 = patches.Rectangle((0.55, 0.625), 0.01, 0.2, color=\"0\")\n",
    "ax.add_patch(idx1)\n",
    "\n",
    "idx2 = patches.Rectangle((0.45, 0.625), 0.01, 0.2, color=\"0\")\n",
    "ax.add_patch(idx2)\n",
    "\n",
    "plt.tight_layout()\n",
    "# plt.savefig(\"tensor_plots/matrix.pdf\")"
   ]
  },
  {
   "cell_type": "code",
   "execution_count": 99,
   "id": "db489fdc",
   "metadata": {},
   "outputs": [
    {
     "data": {
      "image/png": "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",
      "text/plain": [
       "<Figure size 400x400 with 1 Axes>"
      ]
     },
     "metadata": {},
     "output_type": "display_data"
    }
   ],
   "source": [
    "ax, fsize = get_ax()\n",
    "\n",
    "ten1 = make_tensor((0.2, 0.375), t_alpha=0.5)\n",
    "ax.add_patch(ten1)\n",
    "\n",
    "idx1 = make_idx((0.2, 0.375), t_width=0.25, t_height=0.25, offset=0.05, long=0.1, i_color=\"tab:orange\")\n",
    "ax.add_patch(idx1)\n",
    "\n",
    "idx2 = make_idx((0.2, 0.375), t_width=0.25, t_height=0.25, offset=0, long=0.1, i_color=\"tab:green\")\n",
    "ax.add_patch(idx2)\n",
    "\n",
    "idx3 = make_idx((0.2, 0.375), t_width=0.25, t_height=0.25, offset=-0.05, long=0.1, i_color=\"tab:red\")\n",
    "ax.add_patch(idx3)\n",
    "\n",
    "ax.arrow(0.47, 0.5, 0.1, 0.0, head_width=0.05, head_length=0.05, fc='k', ec='k')\n",
    "\n",
    "ten2 = make_tensor((0.65, 0.375), t_alpha=0.5)\n",
    "ax.add_patch(ten2)\n",
    "\n",
    "idx4 = make_idx((0.65, 0.375), t_width=0.25, t_height=0.25, long=0.1, offset=-0.05,i_color=\"tab:red\")\n",
    "ax.add_patch(idx4)\n",
    "\n",
    "idx5 = make_idx((0.65, 0.375), t_width=0.25, t_height=0.25, long=0.1, offset=0.025)\n",
    "ax.add_patch(idx5)\n",
    "\n",
    "# plt.tight_layout()\n",
    "plt.savefig(\"tensor_plots/reshape.pdf\")"
   ]
  },
  {
   "cell_type": "code",
   "execution_count": null,
   "id": "111103d6",
   "metadata": {},
   "outputs": [],
   "source": []
  }
 ],
 "metadata": {
  "kernelspec": {
   "display_name": "Python 3 (ipykernel)",
   "language": "python",
   "name": "python3"
  },
  "language_info": {
   "codemirror_mode": {
    "name": "ipython",
    "version": 3
   },
   "file_extension": ".py",
   "mimetype": "text/x-python",
   "name": "python",
   "nbconvert_exporter": "python",
   "pygments_lexer": "ipython3",
   "version": "3.9.13"
  }
 },
 "nbformat": 4,
 "nbformat_minor": 